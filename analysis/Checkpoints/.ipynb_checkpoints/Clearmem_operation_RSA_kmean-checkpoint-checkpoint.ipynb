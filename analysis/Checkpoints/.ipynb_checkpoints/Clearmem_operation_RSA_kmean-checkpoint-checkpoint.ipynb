{
 "cells": [
  {
   "cell_type": "markdown",
   "metadata": {},
   "source": [
    "# Clearmem2 operation RSA K-mean Clustering"
   ]
  },
  {
   "cell_type": "code",
   "execution_count": 2,
   "metadata": {},
   "outputs": [],
   "source": [
    "import os\n",
    "import numpy as np\n",
    "import glob\n",
    "import pandas as pd\n"
   ]
  },
  {
   "cell_type": "code",
   "execution_count": 26,
   "metadata": {},
   "outputs": [],
   "source": [
    "operations = ['maintain', 'replace', 'suppress', 'clear']\n",
    "n_operation = len(operations)\n",
    "n_trials   = 12 #per run/ condition\n",
    "n_runs     = 6\n",
    "n_cells    = n_trials * n_runs * n_operation;\n",
    "\n",
    "n_subjects = 55\n",
    "n_nodes    = 360 # per hemisphere"
   ]
  },
  {
   "cell_type": "code",
   "execution_count": 59,
   "metadata": {},
   "outputs": [],
   "source": [
    "## similarity matrix for each subjects\n",
    "# 1. The RSA value is Fisher's z-transformation of Pearson's R\n",
    "# 2. There are missing runs and trials for some subjects which have NaN values\n",
    "#    And same trial is in the same cell location across subjects\n",
    "# 3. The data is in subject space and some subjects do not have enough coverage for some nodes\n",
    "#    So, the nodes which have less than 5 voxels were removed\n",
    "# 4. Parcels_MNI is the reference parcellation in MNI space (1x1x1mm)\n",
    "\n",
    "sm_vectors = {}\n",
    "for xsubj in range(n_subjects):\n",
    "    print('(+) subject %.3d' % (xsubj+1))\n",
    "    for xhemi in ['LH','RH']:\n",
    "        # load smiliarity matrix\n",
    "        xfiles = sorted(glob.glob(\n",
    "            os.path.join('subj_sm', 'sub%.3d' % (xsubj+1), \n",
    "                         'sm_subj%.3d_%s_node*.csv' % (xsubj+1, xhemi))))\n",
    "        for xf in xfiles:\n",
    "            xsm = pd.read_csv(xf, header=None)\n",
    "            xnode = xf.split('node')[1].split('.')[0]\n",
    "            xvect = []\n",
    "            for xx in range(n_cells-1):\n",
    "                for yy in range(xx+1, n_cells):\n",
    "                    xvect.append(xsm[xx][yy])\n",
    "                    \n",
    "            sm_vectors['sub%.3d_%s%s' % (xsubj+1, xhemi, xnode)] = xvect\n",
    "            if xf == xfiles[0]:\n",
    "                print(' - There are %d NaN cells in the similarity vector across nodes' % np.where(np.isnan(xvect))[0].shape[0])\n",
    "                    \n",
    "                "
   ]
  },
  {
   "cell_type": "code",
   "execution_count": null,
   "metadata": {},
   "outputs": [],
   "source": []
  }
 ],
 "metadata": {
  "kernelspec": {
   "display_name": "Python 3",
   "language": "python",
   "name": "python3"
  },
  "language_info": {
   "codemirror_mode": {
    "name": "ipython",
    "version": 3
   },
   "file_extension": ".py",
   "mimetype": "text/x-python",
   "name": "python",
   "nbconvert_exporter": "python",
   "pygments_lexer": "ipython3",
   "version": "3.7.6"
  }
 },
 "nbformat": 4,
 "nbformat_minor": 5
}
